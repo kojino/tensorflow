{
 "cells": [
  {
   "cell_type": "code",
   "execution_count": 12,
   "metadata": {
    "collapsed": false
   },
   "outputs": [],
   "source": [
    "from __future__ import absolute_import\n",
    "from __future__ import division\n",
    "from __future__ import print_function\n",
    "\n",
    "import numpy as np\n",
    "from six.moves import xrange  # pylint: disable=redefined-builtin\n",
    "\n",
    "from tensorflow.python.eager import context\n",
    "from tensorflow.python.framework import common_shapes\n",
    "from tensorflow.python.framework import constant_op\n",
    "from tensorflow.python.framework import dtypes\n",
    "from tensorflow.python.framework import graph_util\n",
    "from tensorflow.python.framework import ops\n",
    "from tensorflow.python.framework import sparse_tensor\n",
    "from tensorflow.python.framework import tensor_shape\n",
    "from tensorflow.python.ops import array_ops\n",
    "from tensorflow.python.ops import gen_control_flow_ops\n",
    "from tensorflow.python.ops import gen_data_flow_ops\n",
    "from tensorflow.python.ops import gen_math_ops\n",
    "from tensorflow.python.ops import gen_nn_ops\n",
    "from tensorflow.python.ops import gen_sparse_ops\n",
    "from tensorflow.python.ops import gen_spectral_ops\n",
    "from tensorflow.python.ops import gen_state_ops\n",
    "from tensorflow.python.ops import state_ops\n",
    "# go/tf-wildcard-import\n",
    "# pylint: disable=wildcard-import\n",
    "from tensorflow.python.ops.gen_math_ops import *\n",
    "# pylint: enable=wildcard-import\n",
    "from tensorflow.python.util import compat\n",
    "from tensorflow.python.util import deprecation\n",
    "\n",
    "# Aliases for some automatically-generated names.\n",
    "linspace = gen_math_ops.lin_space\n",
    "\n",
    "arg_max = deprecation.deprecated(None, \"Use `argmax` instead\")(arg_max)  # pylint: disable=used-before-assignment\n",
    "arg_min = deprecation.deprecated(None, \"Use `argmin` instead\")(arg_min)  # pylint: disable=used-before-assignment\n"
   ]
  },
  {
   "cell_type": "code",
   "execution_count": 39,
   "metadata": {
    "collapsed": false
   },
   "outputs": [],
   "source": [
    "import tensorflow as tf\n",
    "shape=[3,3,3]\n",
    "a  = tf.constant([[0,1.0,2.0],[0,0,0],[0,0,0]])\n",
    "b  = tf.placeholder(\"float\", shape=shape)\n",
    "name = None\n",
    "axes = 1"
   ]
  },
  {
   "cell_type": "code",
   "execution_count": 33,
   "metadata": {
    "collapsed": false
   },
   "outputs": [
    {
     "data": {
      "text/plain": [
       "<tf.Tensor 'Tensordot_6:0' shape=<unknown> dtype=float32>"
      ]
     },
     "execution_count": 33,
     "metadata": {},
     "output_type": "execute_result"
    }
   ],
   "source": [
    "tf.tensordot(a,b,axes=1)"
   ]
  },
  {
   "cell_type": "code",
   "execution_count": 19,
   "metadata": {
    "collapsed": false
   },
   "outputs": [],
   "source": [
    "def _tensordot_axes(a, axes):\n",
    "    \"\"\"Generates two sets of contraction axes for the two tensor arguments.\"\"\"\n",
    "    a_shape = a.get_shape()\n",
    "    if isinstance(axes, compat.integral_types):\n",
    "        if axes < 1:\n",
    "            raise ValueError(\"'axes' must be at least 1.\")\n",
    "        if a_shape.ndims is not None:\n",
    "            return range(a_shape.ndims - axes, a_shape.ndims), range(axes)\n",
    "        else:\n",
    "            rank = array_ops.rank(a)\n",
    "            return (range(rank - axes, rank, dtype=dtypes.int32),\n",
    "                            range(axes, dtype=dtypes.int32))\n",
    "    elif isinstance(axes, (list, tuple)):\n",
    "        if len(axes) != 2:\n",
    "            raise ValueError(\"'axes' must be an integer or have length 2.\")\n",
    "        a_axes = axes[0]\n",
    "        b_axes = axes[1]\n",
    "        if isinstance(a_axes, compat.integral_types) and \\\n",
    "                isinstance(b_axes, compat.integral_types):\n",
    "            a_axes = [a_axes]\n",
    "            b_axes = [b_axes]\n",
    "        if len(a_axes) != len(b_axes):\n",
    "            raise ValueError(\n",
    "                    \"Different number of contraction axes 'a' and 'b', %s != %s.\" %\n",
    "                    (len(a_axes), len(b_axes)))\n",
    "        return a_axes, b_axes\n",
    "    else:\n",
    "        axes = ops.convert_to_tensor(axes, name=\"axes\", dtype=dtypes.int32)\n",
    "        return axes[0], axes[1]"
   ]
  },
  {
   "cell_type": "code",
   "execution_count": 34,
   "metadata": {
    "collapsed": true
   },
   "outputs": [],
   "source": [
    "def _tensordot_reshape(a, axes, flipped=False):\n",
    "    \"\"\"Helper method to perform transpose and reshape for contraction op.\n",
    "\n",
    "    This method is helpful in reducing `math_ops.tensordot` to `math_ops.matmul`\n",
    "    using `array_ops.transpose` and `array_ops.reshape`. The method takes a\n",
    "    tensor and performs the correct transpose and reshape operation for a given\n",
    "    set of indices. It returns the reshaped tensor as well as a list of indices\n",
    "    necessary to reshape the tensor again after matrix multiplication.\n",
    "\n",
    "    Args:\n",
    "        a: `Tensor`.\n",
    "        axes: List or `int32` `Tensor` of unique indices specifying valid axes of\n",
    "         `a`.\n",
    "        flipped: An optional `bool`. Defaults to `False`. If `True`, the method\n",
    "            assumes that `a` is the second argument in the contraction operation.\n",
    "\n",
    "    Returns:\n",
    "        A tuple `(reshaped_a, free_dims, free_dims_static)` where `reshaped_a` is\n",
    "        the tensor `a` reshaped to allow contraction via `matmul`, `free_dims` is\n",
    "        either a list of integers or an `int32` `Tensor`, depending on whether\n",
    "        the shape of a is fully specified, and free_dims_static is either a list\n",
    "        of integers and None values, or None, representing the inferred\n",
    "        static shape of the free dimensions\n",
    "    \"\"\"\n",
    "    if a.get_shape().is_fully_defined() and isinstance(axes, (list, tuple)):\n",
    "        shape_a = a.get_shape().as_list()\n",
    "        axes = [i if i >= 0 else i + len(shape_a) for i in axes]\n",
    "        free = [i for i in xrange(len(shape_a)) if i not in axes]\n",
    "        free_dims = [shape_a[i] for i in free]\n",
    "        prod_free = int(np.prod([shape_a[i] for i in free]))\n",
    "        prod_axes = int(np.prod([shape_a[i] for i in axes]))\n",
    "        perm = list(axes) + free if flipped else free + list(axes)\n",
    "        new_shape = [prod_axes, prod_free] if flipped else [prod_free, prod_axes]\n",
    "        reshaped_a = array_ops.reshape(array_ops.transpose(a, perm), new_shape)\n",
    "        return reshaped_a, free_dims, free_dims\n",
    "    else:\n",
    "        if a.get_shape().ndims is not None and isinstance(axes, (list, tuple)):\n",
    "            shape_a = a.get_shape().as_list()\n",
    "            axes = [i if i >= 0 else i + len(shape_a) for i in axes]\n",
    "            free = [i for i in xrange(len(shape_a)) if i not in axes]\n",
    "            free_dims_static = [shape_a[i] for i in free]\n",
    "        else:\n",
    "            free_dims_static = None\n",
    "        shape_a = array_ops.shape(a)\n",
    "        rank_a = array_ops.rank(a)\n",
    "        axes = ops.convert_to_tensor(axes, dtype=dtypes.int32, name=\"axes\")\n",
    "        axes = cast(axes >= 0, dtypes.int32) * axes + cast(\n",
    "                axes < 0, dtypes.int32) * (\n",
    "                        axes + rank_a)\n",
    "        free, _ = array_ops.setdiff1d(range(rank_a), axes)\n",
    "        free_dims = array_ops.gather(shape_a, free)\n",
    "        axes_dims = array_ops.gather(shape_a, axes)\n",
    "        prod_free_dims = reduce_prod(free_dims)\n",
    "        prod_axes_dims = reduce_prod(axes_dims)\n",
    "        perm = array_ops.concat([axes_dims, free_dims], 0)\n",
    "        if flipped:\n",
    "            perm = array_ops.concat([axes, free], 0)\n",
    "            new_shape = array_ops.stack([prod_axes_dims, prod_free_dims])\n",
    "        else:\n",
    "            perm = array_ops.concat([free, axes], 0)\n",
    "            new_shape = array_ops.stack([prod_free_dims, prod_axes_dims])\n",
    "        reshaped_a = array_ops.reshape(array_ops.transpose(a, perm), new_shape)\n",
    "        return reshaped_a, free_dims, free_dims_static\n"
   ]
  },
  {
   "cell_type": "code",
   "execution_count": 44,
   "metadata": {
    "collapsed": false
   },
   "outputs": [],
   "source": [
    "with ops.name_scope(name, \"Tensordot\", [a, b, axes]) as name:\n",
    "    a = ops.convert_to_tensor(a, name=\"a\")\n",
    "    b = ops.convert_to_tensor(b, name=\"b\")\n",
    "    a_axes, b_axes = _tensordot_axes(a, axes)\n",
    "    a_reshape, a_free_dims, a_free_dims_static = _tensordot_reshape(a, list(a_axes))\n",
    "    b_reshape, b_free_dims, b_free_dims_static = _tensordot_reshape(\n",
    "        b, list(b_axes), True)\n",
    "    ab_matmul = tf.matmul(a_reshape, b_reshape)"
   ]
  },
  {
   "cell_type": "code",
   "execution_count": 45,
   "metadata": {
    "collapsed": false
   },
   "outputs": [
    {
     "data": {
      "text/plain": [
       "<tf.Tensor 'Tensordot_8/MatMul:0' shape=(3, 9) dtype=float32>"
      ]
     },
     "execution_count": 45,
     "metadata": {},
     "output_type": "execute_result"
    }
   ],
   "source": [
    "ab_matmul"
   ]
  },
  {
   "cell_type": "code",
   "execution_count": 41,
   "metadata": {
    "collapsed": false
   },
   "outputs": [
    {
     "data": {
      "text/plain": [
       "[1]"
      ]
     },
     "execution_count": 41,
     "metadata": {},
     "output_type": "execute_result"
    }
   ],
   "source": [
    "list(range(1,2))"
   ]
  },
  {
   "cell_type": "code",
   "execution_count": null,
   "metadata": {
    "collapsed": true
   },
   "outputs": [],
   "source": [
    "       "
   ]
  }
 ],
 "metadata": {
  "kernelspec": {
   "display_name": "ml",
   "language": "python",
   "name": "ml"
  },
  "language_info": {
   "codemirror_mode": {
    "name": "ipython",
    "version": 3
   },
   "file_extension": ".py",
   "mimetype": "text/x-python",
   "name": "python",
   "nbconvert_exporter": "python",
   "pygments_lexer": "ipython3",
   "version": "3.6.3"
  }
 },
 "nbformat": 4,
 "nbformat_minor": 0
}
